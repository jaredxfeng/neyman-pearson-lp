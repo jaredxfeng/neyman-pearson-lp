{
 "cells": [
  {
   "cell_type": "markdown",
   "metadata": {},
   "source": [
    "# Problem Description\n",
    "Suppose that $Y$ is a random variable taking on one of $n$ known values: $a_1, a_2, ... , a_n$. \n",
    "\n",
    "Suppose we know that $Y$ either has distribution $p$ given by $P(Y = a_j) = p_j$ or it has distribution $q$ given by $P(Y = a_j) = q_j$.\n",
    "\n",
    "Of course, the numbers $p_j,\\ j = 1, 2, ... , n$ are nonnegative and sum to\n",
    "one. The same is true for the $q_j$ ’s. Based on a single observation of $Y$ ,\n",
    "we wish to guess whether it has distribution $p$ or distribution $q$. That is,\n",
    "for each possible outcome $a_j$ , we will assert with probability $x_j$ that the\n",
    "distribution is $p$ and with probability $1−x_j$ that the distribution is $q$. We wish\n",
    "to determine the probabilities $x_j,\\ j = 1, 2,..., n$, such that the probability\n",
    "of saying the distribution is $p$ when in fact it is $q$ has probability no larger\n",
    "than $\\beta$, where $\\beta$ is some small positive value (such as 0.05). Furthermore,\n",
    "given this constraint, we wish to maximize the probability that we say the\n",
    "distribution is $p$ when in fact it is $p$. Formulate this maximization problem\n",
    "as a linear programming problem."
   ]
  },
  {
   "cell_type": "markdown",
   "metadata": {},
   "source": [
    "In this notebook, we want to create two simple discrete distributions on the same support to work through this problem. We will formulate and solve the linear program with `pyomo`, and will take the solution and build a Monte Carlo simulation to verify that the rate of mistaking distribution $q$ for $p$ is in fact lower than or equal to our defined $\\beta$."
   ]
  },
  {
   "cell_type": "code",
   "execution_count": 1,
   "metadata": {},
   "outputs": [
    {
     "data": {
      "text/plain": [
       "np.int64(9)"
      ]
     },
     "execution_count": 1,
     "metadata": {},
     "output_type": "execute_result"
    }
   ],
   "source": [
    "import numpy as np\n",
    "\n",
    "support = list(range(0, 10))\n",
    "p_dist = [0.1] * 10\n",
    "q_dist = [0.2, 0.15, 0.1, 0.05, 0, 0, 0.05, 0.1, 0.15, 0.2]\n",
    "\n",
    "# Single draw\n",
    "draw = np.random.choice(support, p=q_dist)\n",
    "draw"
   ]
  },
  {
   "cell_type": "markdown",
   "metadata": {},
   "source": [
    "# Linear Program"
   ]
  },
  {
   "cell_type": "code",
   "execution_count": 2,
   "metadata": {},
   "outputs": [],
   "source": [
    "import pyomo.environ as pyo"
   ]
  },
  {
   "cell_type": "code",
   "execution_count": 3,
   "metadata": {},
   "outputs": [
    {
     "name": "stdout",
     "output_type": "stream",
     "text": [
      "1 Set Declarations\n",
      "    SUPPORT : Size=1, Index=None, Ordered=Insertion\n",
      "        Key  : Dimen : Domain : Size : Members\n",
      "        None :     1 :    Any :   10 : {0, 1, 2, 3, 4, 5, 6, 7, 8, 9}\n",
      "\n",
      "2 Param Declarations\n",
      "    p_dist : Size=10, Index=SUPPORT, Domain=Any, Default=None, Mutable=False\n",
      "        Key : Value\n",
      "          0 :   0.1\n",
      "          1 :   0.1\n",
      "          2 :   0.1\n",
      "          3 :   0.1\n",
      "          4 :   0.1\n",
      "          5 :   0.1\n",
      "          6 :   0.1\n",
      "          7 :   0.1\n",
      "          8 :   0.1\n",
      "          9 :   0.1\n",
      "    q_dist : Size=10, Index=SUPPORT, Domain=Any, Default=None, Mutable=False\n",
      "        Key : Value\n",
      "          0 :   0.2\n",
      "          1 :  0.15\n",
      "          2 :   0.1\n",
      "          3 :  0.05\n",
      "          4 :     0\n",
      "          5 :     0\n",
      "          6 :  0.05\n",
      "          7 :   0.1\n",
      "          8 :  0.15\n",
      "          9 :   0.2\n",
      "\n",
      "1 Var Declarations\n",
      "    prob_of_guessing_p : Size=10, Index=SUPPORT\n",
      "        Key : Lower : Value : Upper : Fixed : Stale : Domain\n",
      "          0 :     0 :  None :     1 : False :  True : NonNegativeReals\n",
      "          1 :     0 :  None :     1 : False :  True : NonNegativeReals\n",
      "          2 :     0 :  None :     1 : False :  True : NonNegativeReals\n",
      "          3 :     0 :  None :     1 : False :  True : NonNegativeReals\n",
      "          4 :     0 :  None :     1 : False :  True : NonNegativeReals\n",
      "          5 :     0 :  None :     1 : False :  True : NonNegativeReals\n",
      "          6 :     0 :  None :     1 : False :  True : NonNegativeReals\n",
      "          7 :     0 :  None :     1 : False :  True : NonNegativeReals\n",
      "          8 :     0 :  None :     1 : False :  True : NonNegativeReals\n",
      "          9 :     0 :  None :     1 : False :  True : NonNegativeReals\n",
      "\n",
      "1 Objective Declarations\n",
      "    prob_of_guessing_p_right : Size=1, Index=None, Active=True\n",
      "        Key  : Active : Sense    : Expression\n",
      "        None :   True : maximize : 0.1*prob_of_guessing_p[0] + 0.1*prob_of_guessing_p[1] + 0.1*prob_of_guessing_p[2] + 0.1*prob_of_guessing_p[3] + 0.1*prob_of_guessing_p[4] + 0.1*prob_of_guessing_p[5] + 0.1*prob_of_guessing_p[6] + 0.1*prob_of_guessing_p[7] + 0.1*prob_of_guessing_p[8] + 0.1*prob_of_guessing_p[9]\n",
      "\n",
      "1 Constraint Declarations\n",
      "    mistake_q_for_p_prob_constraint : Size=1, Index=None, Active=True\n",
      "        Key  : Lower : Body                                                                                                                                                                                                                                                                                  : Upper : Active\n",
      "        None :  -Inf : 0.2*prob_of_guessing_p[0] + 0.15*prob_of_guessing_p[1] + 0.1*prob_of_guessing_p[2] + 0.05*prob_of_guessing_p[3] + 0*prob_of_guessing_p[4] + 0*prob_of_guessing_p[5] + 0.05*prob_of_guessing_p[6] + 0.1*prob_of_guessing_p[7] + 0.15*prob_of_guessing_p[8] + 0.2*prob_of_guessing_p[9] :  0.05 :   True\n",
      "\n",
      "6 Declarations: SUPPORT p_dist q_dist prob_of_guessing_p mistake_q_for_p_prob_constraint prob_of_guessing_p_right\n"
     ]
    }
   ],
   "source": [
    "from typing import List\n",
    "\n",
    "def build_model(support: List[float], p_dist: List[float], q_dist: List[float], beta: float):\n",
    "    m = pyo.ConcreteModel()\n",
    "    m.SUPPORT = pyo.Set(initialize=support)\n",
    "    m.p_dist = pyo.Param(m.SUPPORT, initialize={i: p_dist[i] for i in support})\n",
    "    m.q_dist = pyo.Param(m.SUPPORT, initialize={i: q_dist[i] for i in support})\n",
    "    m.prob_of_guessing_p = pyo.Var(m.SUPPORT, domain=pyo.NonNegativeReals, bounds=(0, 1))\n",
    "    \n",
    "    @m.Constraint()\n",
    "    def mistake_q_for_p_prob_constraint(m):\n",
    "        return sum(m.q_dist[j] * m.prob_of_guessing_p[j] for j in m.SUPPORT) <= beta\n",
    "\n",
    "    @m.Objective(sense=pyo.maximize)\n",
    "    def prob_of_guessing_p_right(m):\n",
    "        return sum(m.p_dist[j] * m.prob_of_guessing_p[j] for j in m.SUPPORT) \n",
    "\n",
    "    return m\n",
    "\n",
    "\n",
    "mistake_q_for_p_rate = 0.05\n",
    "model = build_model(support, p_dist, q_dist, beta=mistake_q_for_p_rate)\n",
    "model.pprint()"
   ]
  },
  {
   "cell_type": "code",
   "execution_count": 4,
   "metadata": {},
   "outputs": [
    {
     "name": "stdout",
     "output_type": "stream",
     "text": [
      "Solver status: ok\n",
      "Solver termination condition: optimal\n",
      "Maximal probability of guessing distribution p right: 0.3\n",
      "Optimal guessing probabilities: [0.0, 0.0, 0.0, 1.0, 1.0, 1.0, 0.0, 0.0, 0.0, 0.0]\n"
     ]
    }
   ],
   "source": [
    "solver = pyo.SolverFactory('appsi_highs')\n",
    "results = solver.solve(model)\n",
    "print('Solver status:', results.Solver.status)\n",
    "print('Solver termination condition:', results.Solver.termination_condition)\n",
    "print('Maximal probability of guessing distribution p right:', round(pyo.value(model.prob_of_guessing_p_right), 2))\n",
    "\n",
    "optimal_guess_p_probs = [model.prob_of_guessing_p[i].value for i in model.SUPPORT]\n",
    "print(\"Optimal guessing probabilities:\", optimal_guess_p_probs)"
   ]
  },
  {
   "cell_type": "markdown",
   "metadata": {},
   "source": [
    "# Monte Carlo Simulations"
   ]
  },
  {
   "cell_type": "code",
   "execution_count": 5,
   "metadata": {},
   "outputs": [],
   "source": [
    "def draw_and_guess(support: List[float], dist: List[float], guess_p_probs: List[float]):\n",
    "    draw = np.random.choice(support, p=dist)\n",
    "    guess_p_prob = guess_p_probs[draw]\n",
    "    is_guessing_p = np.random.binomial(1, guess_p_prob)\n",
    "    return is_guessing_p"
   ]
  },
  {
   "cell_type": "markdown",
   "metadata": {},
   "source": [
    "Two sources of randomness: drawing one observation from the given generating distribution ($p$ or $q$) & the random guess."
   ]
  },
  {
   "cell_type": "code",
   "execution_count": 6,
   "metadata": {},
   "outputs": [],
   "source": [
    "n_iterations = 100000"
   ]
  },
  {
   "cell_type": "code",
   "execution_count": 7,
   "metadata": {},
   "outputs": [
    {
     "data": {
      "text/plain": [
       "0.30092"
      ]
     },
     "execution_count": 7,
     "metadata": {},
     "output_type": "execute_result"
    }
   ],
   "source": [
    "guesses = []\n",
    "for i in range(n_iterations):\n",
    "    is_guessing_p = draw_and_guess(support, p_dist, guess_p_probs=optimal_guess_p_probs)\n",
    "    guesses.append(is_guessing_p)\n",
    "\n",
    "sum(guesses) / len(guesses)"
   ]
  },
  {
   "cell_type": "markdown",
   "metadata": {},
   "source": [
    "Monte Carlo simulation shows that the guessing rule is actually 30% right, if the generating distribution is $p$. "
   ]
  },
  {
   "cell_type": "code",
   "execution_count": 8,
   "metadata": {},
   "outputs": [
    {
     "data": {
      "text/plain": [
       "0.04946"
      ]
     },
     "execution_count": 8,
     "metadata": {},
     "output_type": "execute_result"
    }
   ],
   "source": [
    "guesses = []\n",
    "for i in range(n_iterations):\n",
    "    is_guessing_p = draw_and_guess(support, q_dist, guess_p_probs=optimal_guess_p_probs)\n",
    "    guesses.append(is_guessing_p)\n",
    "\n",
    "sum(guesses) / len(guesses)"
   ]
  },
  {
   "cell_type": "markdown",
   "metadata": {},
   "source": [
    "Monte Carlo simulation shows that the guessing rule is actually 5% wrong, if the generating distribution is $q$."
   ]
  }
 ],
 "metadata": {
  "kernelspec": {
   "display_name": "base",
   "language": "python",
   "name": "python3"
  },
  "language_info": {
   "codemirror_mode": {
    "name": "ipython",
    "version": 3
   },
   "file_extension": ".py",
   "mimetype": "text/x-python",
   "name": "python",
   "nbconvert_exporter": "python",
   "pygments_lexer": "ipython3",
   "version": "3.12.7"
  }
 },
 "nbformat": 4,
 "nbformat_minor": 2
}
